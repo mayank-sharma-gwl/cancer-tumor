{
  "nbformat": 4,
  "nbformat_minor": 0,
  "metadata": {
    "colab": {
      "provenance": []
    },
    "kernelspec": {
      "name": "python3",
      "display_name": "Python 3"
    },
    "language_info": {
      "name": "python"
    }
  },
  "cells": [
    {
      "cell_type": "code",
      "execution_count": 1,
      "metadata": {
        "colab": {
          "base_uri": "https://localhost:8080/"
        },
        "id": "t6I4HiHjtizf",
        "outputId": "f15fc995-788e-4c72-9b16-922a233715c1"
      },
      "outputs": [
        {
          "output_type": "stream",
          "name": "stdout",
          "text": [
            "Mounted at /content/drive\n"
          ]
        }
      ],
      "source": [
        "import pandas as pd\n",
        "import matplotlib.pyplot as plt\n",
        "import numpy as np\n",
        "from google.colab import drive\n",
        "#importing csv file \n",
        "drive.mount('/content/drive')\n",
        "path = \"/content/drive/MyDrive/assign/Data Set 1.csv\"\n",
        "df = pd.read_csv(path)"
      ]
    },
    {
      "cell_type": "code",
      "source": [
        "shuffle_df = df.sample(frac=1)      #shuffling\n",
        "train_size = int(0.67 * len(df))    #split ratio 67:33\n",
        "train_set = shuffle_df[:train_size]\n",
        "test_set = shuffle_df[train_size:]\n",
        "#test_set\n",
        "\n",
        "X_train = train_set.iloc[:, 2:].values         #Independent Variables\n",
        "X_test = test_set.iloc[:, 2:].values\n",
        "\n",
        "Y_train = train_set.iloc[:,1].values          #Dependent Variable\n",
        "Y_test = test_set.iloc[:,1].values\n",
        "Y_train = np.array([1 if i == 'M' else 0 for i in Y_train])\n",
        "Y_test = np.array([1 if i == 'M' else 0 for i in Y_test])\n",
        "\n",
        "X_train = X_train.T\n",
        "Y_train = Y_train.reshape(1, X_train.shape[1])\n",
        "\n",
        "X_test = X_test.T\n",
        "Y_test = Y_test.reshape(1, X_test.shape[1])\n",
        "\n",
        "print(\"Shape of X_train : \", X_train.shape)\n",
        "print(\"Shape of Y_train : \", Y_train.shape)\n",
        "print(\"Shape of X_test : \", X_test.shape)\n",
        "print(\"Shape of Y_test : \", Y_test.shape)"
      ],
      "metadata": {
        "colab": {
          "base_uri": "https://localhost:8080/"
        },
        "id": "DlAI82PHtluW",
        "outputId": "f5b8074a-cb01-454a-953c-530c4fb128dd"
      },
      "execution_count": 2,
      "outputs": [
        {
          "output_type": "stream",
          "name": "stdout",
          "text": [
            "Shape of X_train :  (30, 381)\n",
            "Shape of Y_train :  (1, 381)\n",
            "Shape of X_test :  (30, 188)\n",
            "Shape of Y_test :  (1, 188)\n"
          ]
        }
      ]
    },
    {
      "cell_type": "code",
      "source": [
        "def sigmoid(x):\n",
        "  return 1/(1+np.exp(-x))\n",
        "\n",
        "def model(X, Y, learning_rate, iterations):\n",
        "    \n",
        "    m = X_train.shape[1]\n",
        "    n = X_train.shape[0]\n",
        "    \n",
        "    W = np.zeros((n,1))\n",
        "    B = 0\n",
        "    cost_list = []\n",
        "    \n",
        "    for i in range(iterations):\n",
        "        \n",
        "        Z = np.dot(W.T, X) + B\n",
        "        A = sigmoid(Z)\n",
        "        #Y = np.array(Y)\n",
        "        # cost function\n",
        "        cost = -(1/m)*np.sum( (Y*np.log(A)) + ((1-Y)*np.log(1-A)) )\n",
        "        \n",
        "        # Gradient Descent\n",
        "        dW = (1/m)*np.dot(A-Y, X.T)\n",
        "        dB = (1/m)*np.sum(A - Y)\n",
        "        \n",
        "        W = W - learning_rate*dW.T\n",
        "        B = B - learning_rate*dB\n",
        "        \n",
        "        # Keeping track of our cost function value\n",
        "        cost_list.append(cost)\n",
        "        \n",
        "        #if(i%(iterations/10) == 0):\n",
        "            #print(\"cost after \", i, \"iteration is : \", cost)\n",
        "        \n",
        "    return W, B, cost_list"
      ],
      "metadata": {
        "id": "BvQc-j0ZuDi6"
      },
      "execution_count": 8,
      "outputs": []
    },
    {
      "cell_type": "code",
      "source": [
        "iterations = 10000\n",
        "learning_rate = 0.0001\n",
        "W, B, cost_list = model(X_train, Y_train, learning_rate = learning_rate, iterations = iterations)\n",
        "\n",
        "#plt.plot(np.arange(iterations), cost_list)\n",
        "#plt.show()"
      ],
      "metadata": {
        "id": "7eXiZtK9uP1T"
      },
      "execution_count": 9,
      "outputs": []
    },
    {
      "cell_type": "code",
      "source": [
        "def accuracy(X, Y, W, B):\n",
        "    \n",
        "    Z = np.dot(W.T, X) + B\n",
        "    A = sigmoid(Z)\n",
        "    \n",
        "    A = A > 0.5\n",
        "    \n",
        "    A = np.array(A, dtype = 'int64')\n",
        "    \n",
        "    acc = (1 - np.sum(np.absolute(A - Y))/Y.shape[1])*100\n",
        "    \n",
        "    print(\"Accuracy of the model is : \", round(acc, 2), \"%\")\n",
        "accuracy(X_test, Y_test, W, B)"
      ],
      "metadata": {
        "colab": {
          "base_uri": "https://localhost:8080/"
        },
        "id": "Mz5BqxuduY8W",
        "outputId": "3c24ac59-ff1e-4323-c36d-a4a5721d5f46"
      },
      "execution_count": 10,
      "outputs": [
        {
          "output_type": "stream",
          "name": "stdout",
          "text": [
            "Accuracy of the model is :  61.7 %\n"
          ]
        }
      ]
    }
  ]
}