{
  "nbformat": 4,
  "nbformat_minor": 0,
  "metadata": {
    "colab": {
      "provenance": []
    },
    "kernelspec": {
      "name": "python3",
      "display_name": "Python 3"
    },
    "language_info": {
      "name": "python"
    }
  },
  "cells": [
    {
      "cell_type": "code",
      "execution_count": 1,
      "metadata": {
        "colab": {
          "base_uri": "https://localhost:8080/"
        },
        "id": "2Qm57ir7usQE",
        "outputId": "b0a34637-61d8-41f6-f2d3-68579d2b81e3"
      },
      "outputs": [
        {
          "output_type": "stream",
          "name": "stdout",
          "text": [
            "Mounted at /content/drive\n"
          ]
        }
      ],
      "source": [
        "import pandas as pd\n",
        "import matplotlib.pyplot as plt\n",
        "import numpy as np\n",
        "from google.colab import drive\n",
        "#importing csv file \n",
        "drive.mount('/content/drive')\n",
        "path = \"/content/drive/MyDrive/assign/Data Set 1.csv\"\n",
        "df = pd.read_csv(path)"
      ]
    },
    {
      "cell_type": "code",
      "source": [
        "shuffle_df = df.sample(frac=1)      #shuffling\n",
        "\n",
        "train_size = int(0.67 * len(df))    #split ratio 67:33\n",
        "train_set = shuffle_df[:train_size]\n",
        "test_set = shuffle_df[train_size:]\n",
        "#test_set\n",
        "\n",
        "X_train = train_set.iloc[:, 2:].values         #Independent Variables\n",
        "X_test = test_set.iloc[:, 2:].values\n",
        "\n",
        "Y_train = train_set.iloc[:,1].values          #Dependent Variable\n",
        "Y_test = test_set.iloc[:,1].values\n",
        "Y_train = np.array([1 if i == 'M' else 0 for i in Y_train])\n",
        "Y_test = np.array([1 if i == 'M' else 0 for i in Y_test])\n",
        "\n",
        "def standardize_data(data):\n",
        "    mean = np.mean(data, axis=0)\n",
        "    std = np.std(data, axis=0)\n",
        "    standardized_data = (data - mean) / std\n",
        "    return standardized_data\n",
        "\n",
        "X_test = standardize_data(X_test)\n",
        "X_train = standardize_data(X_train)\n",
        "\n",
        "mean1 = np.nanmean(X_train)\n",
        "mean2 = np.nanmean(X_test)\n",
        "# Replace NaN values with mean\n",
        "X_train[np.isnan(X_train)] = mean1\n",
        "X_test[np.isnan(X_test)] = mean2\n",
        "\n",
        "X_train = X_train.T\n",
        "Y_train = Y_train.reshape(1, X_train.shape[1])\n",
        "\n",
        "X_test = X_test.T\n",
        "Y_test = Y_test.reshape(1, X_test.shape[1])\n",
        "\n",
        "print(\"Shape of X_train : \", X_train.shape)\n",
        "print(\"Shape of Y_train : \", Y_train.shape)\n",
        "print(\"Shape of X_test : \", X_test.shape)\n",
        "print(\"Shape of Y_test : \", Y_test.shape)\n"
      ],
      "metadata": {
        "id": "axIUNa8Buxdf",
        "colab": {
          "base_uri": "https://localhost:8080/"
        },
        "outputId": "b721be52-ff57-4d86-c289-5bbb8906ba79"
      },
      "execution_count": 2,
      "outputs": [
        {
          "output_type": "stream",
          "name": "stdout",
          "text": [
            "Shape of X_train :  (30, 381)\n",
            "Shape of Y_train :  (1, 381)\n",
            "Shape of X_test :  (30, 188)\n",
            "Shape of Y_test :  (1, 188)\n"
          ]
        }
      ]
    },
    {
      "cell_type": "markdown",
      "source": [
        "Batch GD"
      ],
      "metadata": {
        "id": "-nK3A6WTDNBH"
      }
    },
    {
      "cell_type": "code",
      "source": [
        "def sigmoid(x):\n",
        "  return 1/(1+np.exp(-x))\n",
        "\n",
        "def model(X, Y, learning_rate, iterations):\n",
        "    \n",
        "    m = X_train.shape[1]\n",
        "    n = X_train.shape[0]\n",
        "    \n",
        "    W = np.zeros((n,1))\n",
        "    B = 0\n",
        "    cost_list = []\n",
        "    \n",
        "    for i in range(iterations):\n",
        "        \n",
        "        Z = np.dot(W.T, X) + B\n",
        "        A = sigmoid(Z)\n",
        "        #Y = np.array(Y)\n",
        "        # cost function\n",
        "        cost = -(1/m)*np.sum( (Y*np.log(A)) + ((1-Y)*np.log(1-A)) )\n",
        "        \n",
        "        # Gradient Descent\n",
        "        dW = (1/m)*np.dot(A-Y, X.T)\n",
        "        dB = (1/m)*np.sum(A - Y)\n",
        "        \n",
        "        W = W - learning_rate*dW.T\n",
        "        B = B - learning_rate*dB\n",
        "        \n",
        "        # Keeping track of our cost function value\n",
        "        cost_list.append(cost)\n",
        "        \n",
        "        if(i%(iterations/10) == 0):\n",
        "            print(\"cost after \", i, \"iteration is : \", cost)\n",
        "        \n",
        "    return W, B, cost_list"
      ],
      "metadata": {
        "id": "L1o7Ypyzv4a3"
      },
      "execution_count": 3,
      "outputs": []
    },
    {
      "cell_type": "markdown",
      "source": [
        "Mini Batch GD"
      ],
      "metadata": {
        "id": "0nEss4tcDGvY"
      }
    },
    {
      "cell_type": "code",
      "source": [
        "def hypothesis(X, theta):\n",
        "    return np.dot(X, theta)\n",
        " \n",
        "# function to compute gradient of error function w.r.t. theta\n",
        " \n",
        " \n",
        "def gradient(X, y, theta):\n",
        "    h = hypothesis(X, theta)\n",
        "    grad = np.dot(X.transpose(), (h - y))\n",
        "    return grad\n",
        " \n",
        "# function to compute the error for current values of theta\n",
        " \n",
        " \n",
        "def cost(X, y, theta):\n",
        "    h = hypothesis(X, theta)\n",
        "    J = np.dot((h - y).transpose(), (h - y))\n",
        "    J /= 2\n",
        "    return J[0]\n",
        "\n",
        "def create_mini_batches(X, y, batch_size):\n",
        "    mini_batches = []\n",
        "    data = np.hstack((X, y))\n",
        "    np.random.shuffle(data)\n",
        "    n_minibatches = data.shape[0] // batch_size\n",
        "    i = 0\n",
        " \n",
        "    for i in range(n_minibatches + 1):\n",
        "        mini_batch = data[i * batch_size:(i + 1)*batch_size, :]\n",
        "        X_mini = mini_batch[:, :-1]\n",
        "        Y_mini = mini_batch[:, -1].reshape((-1, 1))\n",
        "        mini_batches.append((X_mini, Y_mini))\n",
        "    if data.shape[0] % batch_size != 0:\n",
        "        mini_batch = data[i * batch_size:data.shape[0]]\n",
        "        X_mini = mini_batch[:, :-1]\n",
        "        Y_mini = mini_batch[:, -1].reshape((-1, 1))\n",
        "        mini_batches.append((X_mini, Y_mini))\n",
        "    return mini_batches\n",
        " \n",
        "# function to perform mini-batch gradient descent\n",
        " \n",
        " \n",
        "def model2(X, y, learning_rate, batch_size):\n",
        "    theta = np.zeros((X.shape[1], 1))\n",
        "    cost_list = []\n",
        "    max_iters = 3\n",
        "    for itr in range(max_iters):\n",
        "        mini_batches = create_mini_batches(X, y, batch_size)\n",
        "        for mini_batch in mini_batches:\n",
        "            X_mini, y_mini = mini_batch\n",
        "            theta = theta - learning_rate * gradient(X_mini, y_mini, theta)\n",
        "            cost_list.append(cost(X_mini, y_mini, theta))\n",
        "    W = theta[1:]\n",
        "    B = theta[0]\n",
        "\n",
        " \n",
        "    return W, B, cost_list"
      ],
      "metadata": {
        "id": "S-Q-MfNGCusl"
      },
      "execution_count": 13,
      "outputs": []
    },
    {
      "cell_type": "code",
      "source": [
        "iterations = 10000\n",
        "learning_rate = 0.001\n",
        "W, B, cost_list = model(X_train, Y_train, learning_rate = learning_rate, iterations = iterations)"
      ],
      "metadata": {
        "colab": {
          "base_uri": "https://localhost:8080/"
        },
        "id": "lHAyU7BBw1F4",
        "outputId": "1adcfacf-b278-4d6f-bf32-aa65a4bb3ba9"
      },
      "execution_count": 4,
      "outputs": [
        {
          "output_type": "stream",
          "name": "stdout",
          "text": [
            "cost after  0 iteration is :  0.6931471805599452\n",
            "cost after  1000 iteration is :  0.275330348774428\n",
            "cost after  2000 iteration is :  0.20299626503968154\n",
            "cost after  3000 iteration is :  0.16982665230392105\n",
            "cost after  4000 iteration is :  0.1501657175215608\n",
            "cost after  5000 iteration is :  0.13695111207287122\n",
            "cost after  6000 iteration is :  0.12735901429587126\n",
            "cost after  7000 iteration is :  0.12002291606174958\n",
            "cost after  8000 iteration is :  0.114196245318413\n",
            "cost after  9000 iteration is :  0.10943448244268351\n"
          ]
        }
      ]
    },
    {
      "cell_type": "code",
      "source": [
        "plt.plot(np.arange(iterations), cost_list)\n",
        "plt.show()"
      ],
      "metadata": {
        "id": "wd69kuW66rbV",
        "colab": {
          "base_uri": "https://localhost:8080/",
          "height": 265
        },
        "outputId": "65d071a6-27da-4cd5-d8b5-852fd5b02993"
      },
      "execution_count": 9,
      "outputs": [
        {
          "output_type": "display_data",
          "data": {
            "text/plain": [
              "<Figure size 432x288 with 1 Axes>"
            ],
            "image/png": "[encoded data removed]"
          },
          "metadata": {
            "needs_background": "light"
          }
        }
      ]
    },
    {
      "cell_type": "code",
      "source": [
        "def accuracy(X, Y, W, B):\n",
        "    \n",
        "    Z = np.dot(W.T, X) + B\n",
        "    A = sigmoid(Z)\n",
        "    A = A > 0.5\n",
        "    A = np.array(A, dtype = 'int64')\n",
        "    \n",
        "    acc = (1 - np.sum(np.absolute(A - Y))/Y.shape[1])*100\n",
        "    print(\"Accuracy of the model is : \", round(acc, 2), \"%\")\n",
        "accuracy(X_test, Y_test, W, B)"
      ],
      "metadata": {
        "colab": {
          "base_uri": "https://localhost:8080/"
        },
        "id": "rRRv-cG36xfp",
        "outputId": "b0c54496-2876-4cdd-ff3d-13007bc05a5f"
      },
      "execution_count": 17,
      "outputs": [
        {
          "output_type": "stream",
          "name": "stdout",
          "text": [
            "Accuracy of the model is :  97.34 %\n"
          ]
        }
      ]
    }
  ]
}