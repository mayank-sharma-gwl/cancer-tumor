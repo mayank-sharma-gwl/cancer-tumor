{
  "nbformat": 4,
  "nbformat_minor": 0,
  "metadata": {
    "colab": {
      "provenance": []
    },
    "kernelspec": {
      "name": "python3",
      "display_name": "Python 3"
    },
    "language_info": {
      "name": "python"
    }
  },
  "cells": [
    {
      "cell_type": "code",
      "execution_count": 1,
      "metadata": {
        "colab": {
          "base_uri": "https://localhost:8080/"
        },
        "id": "2YYKA3_Ymkib",
        "outputId": "1239bd9b-63e7-4e79-f42b-c18f28d323fa"
      },
      "outputs": [
        {
          "output_type": "stream",
          "name": "stdout",
          "text": [
            "Mounted at /content/drive\n"
          ]
        }
      ],
      "source": [
        "import pandas as pd\n",
        "import matplotlib.pyplot as plt\n",
        "import numpy as np\n",
        "from google.colab import drive\n",
        "#importing csv file \n",
        "drive.mount('/content/drive')\n",
        "path = \"/content/drive/MyDrive/assign/Data Set 1.csv\"\n",
        "df = pd.read_csv(path)"
      ]
    },
    {
      "cell_type": "code",
      "source": [
        "df = df.drop(\"id\", axis=1)\n",
        "df[\"diagnosis\"] = df[\"diagnosis\"].map({\"M\": 1, \"B\": 0})\n",
        "mean = np.mean(df, axis=0)\n",
        "for i in range(1, df.shape[1]):\n",
        "    df.iloc[:, i].fillna(mean[i - 1], inplace=True)\n",
        "y = df[\"diagnosis\"]\n",
        "X = df.drop([\"diagnosis\"], axis=1)\n",
        "mean = np.mean(X, axis=0)\n",
        "stddev = np.std(X, axis=0)\n",
        "X = (X - mean) / stddev\n",
        "df = pd.concat([X, y], axis=1)\n",
        "X = df.drop([\"diagnosis\"], axis=1)\n",
        "split_idx = int(len(df) * 0.67)\n",
        "X_train, X_test = X[:split_idx], X[split_idx:]\n",
        "y_train, y_test = y[:split_idx], y[split_idx:]\n",
        "X.isnull().sum()\n",
        "\n",
        "X_train = X_train.to_numpy()\n",
        "X_test = X_test.to_numpy()\n",
        "y_train = y_train.to_numpy()\n",
        "y_test = y_test.to_numpy()"
      ],
      "metadata": {
        "id": "RoZkFRN9mrqm"
      },
      "execution_count": 2,
      "outputs": []
    },
    {
      "cell_type": "code",
      "source": [
        "def accuracy(X, Y, W, B):\n",
        "\n",
        "    def sigmoid(x):\n",
        "        return 1 / (1 + np.exp(-x))\n",
        "\n",
        "    Z = np.dot(W.T, X.T) + B\n",
        "    A = sigmoid(Z)\n",
        "    A = A > 0.5\n",
        "    A = np.array(A, dtype = 'int64')\n",
        "    \n",
        "    acc = (1 - np.sum(np.absolute(A - Y))/Y.shape[1])*100\n",
        "    print(\"Accuracy of the model is : \", round(acc, 2), \"%\")"
      ],
      "metadata": {
        "id": "pONuLIXdqTWs"
      },
      "execution_count": 3,
      "outputs": []
    },
    {
      "cell_type": "code",
      "source": [
        "class LogisticRegressionMini:\n",
        "    def __init__(self, learning_rate=0.01, n_iters=1000, batch_size=32, random_state=None,threshold=0.5):\n",
        "        self.learning_rate = learning_rate\n",
        "        self.n_iters = n_iters\n",
        "        self.batch_size = batch_size\n",
        "        self.random_state = random_state\n",
        "        self.threshold=threshold\n",
        "    \n",
        "    def sigmoid(self, x):\n",
        "        return 1 / (1 + np.exp(-x))\n",
        "    \n",
        "    def fit(self, X, y):\n",
        "        n_samples, n_features = X.shape\n",
        "        self.weights = np.zeros(n_features)\n",
        "        self.bias = 0\n",
        "        self.costs = []\n",
        "        \n",
        "        # set random seed for reproducibility\n",
        "        if self.random_state is not None:\n",
        "            np.random.seed(self.random_state)\n",
        "        \n",
        "        # minibatch gradient descent\n",
        "        for i in range(self.n_iters):\n",
        "            # shuffle data\n",
        "            idx = np.arange(n_samples)\n",
        "            np.random.shuffle(idx)\n",
        "            X_shuffled = X[idx]\n",
        "            y_shuffled = y[idx]\n",
        "            \n",
        "            # loop over minibatches\n",
        "            for j in range(0, n_samples, self.batch_size):\n",
        "                # get minibatch\n",
        "                X_batch = X_shuffled[j:j+self.batch_size]\n",
        "                y_batch = y_shuffled[j:j+self.batch_size]\n",
        "                \n",
        "                # calculate predicted probabilities and gradients\n",
        "                linear_model = np.dot(X_batch, self.weights) + self.bias\n",
        "                y_pred = self.sigmoid(linear_model)\n",
        "                dw = np.dot(X_batch.T, (y_pred - y_batch)) / self.batch_size\n",
        "                db = np.sum(y_pred - y_batch) / self.batch_size\n",
        "                \n",
        "                # update weights and bias\n",
        "                self.weights -= self.learning_rate * dw\n",
        "                self.bias -= self.learning_rate * db\n",
        "            \n",
        "            # calculate cost and add to list for graphing\n",
        "            y_pred = self.sigmoid(np.dot(X, self.weights) + self.bias)\n",
        "            y_pred[y_pred == 0] = 1e-15  # add small constant value to avoid NaN in cost\n",
        "            y_pred[y_pred == 1] = 1 - 1e-15  # add small constant value to avoid NaN in cost\n",
        "            cost = -1/n_samples * np.sum(y * np.log(y_pred) + (1-y) * np.log(1-y_pred))\n",
        "            self.costs.append(cost)\n",
        "        return self.weights, self.bias\n",
        "    \n",
        "    def predict_proba(self, X):\n",
        "        linear_model = np.dot(X, self.weights) + self.bias\n",
        "        y_pred = self.sigmoid(linear_model)\n",
        "        return y_pred\n",
        "    \n",
        "    def predict(self, X):\n",
        "        y_pred_proba = self.predict_proba(X)\n",
        "        y_pred_class = [1 if i > self.threshold else 0 for i in y_pred_proba]\n",
        "        return y_pred_class\n",
        "    \n",
        "    def plot_cost(self):\n",
        "        fig, ax = plt.subplots(figsize=(10, 8))\n",
        "        plt.plot(np.arange(1, len(self.costs)+1), self.costs)"
      ],
      "metadata": {
        "id": "eNYyYJi_n_Ly"
      },
      "execution_count": 4,
      "outputs": []
    },
    {
      "cell_type": "code",
      "source": [
        "learning_rate = 0.001\n",
        "n_iters = 500\n",
        "threshold = 0.5\n",
        "model = LogisticRegressionMini(learning_rate=learning_rate, n_iters=n_iters,threshold=threshold)\n",
        "model.fit(X_train, y_train)\n",
        "y_pred = model.predict(X_test)\n",
        "#accuracy = accuracy_score(Y_test, y_pred)\n",
        "#print(\"Accuracy:\", accuracy)\n",
        "model.plot_cost()\n",
        "accuracy(X_test, y_test, model.weights, model.bias)"
      ],
      "metadata": {
        "colab": {
          "base_uri": "https://localhost:8080/",
          "height": 770
        },
        "id": "Sg4ImL4yoFUD",
        "outputId": "e7e2fbac-66bd-4370-be21-e0950b36d2aa"
      },
      "execution_count": 5,
      "outputs": [
        {
          "output_type": "error",
          "ename": "IndexError",
          "evalue": "ignored",
          "traceback": [
            "\u001b[0;31m---------------------------------------------------------------------------\u001b[0m",
            "\u001b[0;31mIndexError\u001b[0m                                Traceback (most recent call last)",
            "\u001b[0;32m<ipython-input-5-7633e283d5bb>\u001b[0m in \u001b[0;36m<module>\u001b[0;34m\u001b[0m\n\u001b[1;32m      8\u001b[0m \u001b[0;31m#print(\"Accuracy:\", accuracy)\u001b[0m\u001b[0;34m\u001b[0m\u001b[0;34m\u001b[0m\u001b[0m\n\u001b[1;32m      9\u001b[0m \u001b[0mmodel\u001b[0m\u001b[0;34m.\u001b[0m\u001b[0mplot_cost\u001b[0m\u001b[0;34m(\u001b[0m\u001b[0;34m)\u001b[0m\u001b[0;34m\u001b[0m\u001b[0;34m\u001b[0m\u001b[0m\n\u001b[0;32m---> 10\u001b[0;31m \u001b[0maccuracy\u001b[0m\u001b[0;34m(\u001b[0m\u001b[0mX_test\u001b[0m\u001b[0;34m,\u001b[0m \u001b[0my_test\u001b[0m\u001b[0;34m,\u001b[0m \u001b[0mmodel\u001b[0m\u001b[0;34m.\u001b[0m\u001b[0mweights\u001b[0m\u001b[0;34m,\u001b[0m \u001b[0mmodel\u001b[0m\u001b[0;34m.\u001b[0m\u001b[0mbias\u001b[0m\u001b[0;34m)\u001b[0m\u001b[0;34m\u001b[0m\u001b[0;34m\u001b[0m\u001b[0m\n\u001b[0m",
            "\u001b[0;32m<ipython-input-3-a5728515d46f>\u001b[0m in \u001b[0;36maccuracy\u001b[0;34m(X, Y, W, B)\u001b[0m\n\u001b[1;32m      9\u001b[0m     \u001b[0mA\u001b[0m \u001b[0;34m=\u001b[0m \u001b[0mnp\u001b[0m\u001b[0;34m.\u001b[0m\u001b[0marray\u001b[0m\u001b[0;34m(\u001b[0m\u001b[0mA\u001b[0m\u001b[0;34m,\u001b[0m \u001b[0mdtype\u001b[0m \u001b[0;34m=\u001b[0m \u001b[0;34m'int64'\u001b[0m\u001b[0;34m)\u001b[0m\u001b[0;34m\u001b[0m\u001b[0;34m\u001b[0m\u001b[0m\n\u001b[1;32m     10\u001b[0m \u001b[0;34m\u001b[0m\u001b[0m\n\u001b[0;32m---> 11\u001b[0;31m     \u001b[0macc\u001b[0m \u001b[0;34m=\u001b[0m \u001b[0;34m(\u001b[0m\u001b[0;36m1\u001b[0m \u001b[0;34m-\u001b[0m \u001b[0mnp\u001b[0m\u001b[0;34m.\u001b[0m\u001b[0msum\u001b[0m\u001b[0;34m(\u001b[0m\u001b[0mnp\u001b[0m\u001b[0;34m.\u001b[0m\u001b[0mabsolute\u001b[0m\u001b[0;34m(\u001b[0m\u001b[0mA\u001b[0m \u001b[0;34m-\u001b[0m \u001b[0mY\u001b[0m\u001b[0;34m)\u001b[0m\u001b[0;34m)\u001b[0m\u001b[0;34m/\u001b[0m\u001b[0mY\u001b[0m\u001b[0;34m.\u001b[0m\u001b[0mshape\u001b[0m\u001b[0;34m[\u001b[0m\u001b[0;36m1\u001b[0m\u001b[0;34m]\u001b[0m\u001b[0;34m)\u001b[0m\u001b[0;34m*\u001b[0m\u001b[0;36m100\u001b[0m\u001b[0;34m\u001b[0m\u001b[0;34m\u001b[0m\u001b[0m\n\u001b[0m\u001b[1;32m     12\u001b[0m     \u001b[0mprint\u001b[0m\u001b[0;34m(\u001b[0m\u001b[0;34m\"Accuracy of the model is : \"\u001b[0m\u001b[0;34m,\u001b[0m \u001b[0mround\u001b[0m\u001b[0;34m(\u001b[0m\u001b[0macc\u001b[0m\u001b[0;34m,\u001b[0m \u001b[0;36m2\u001b[0m\u001b[0;34m)\u001b[0m\u001b[0;34m,\u001b[0m \u001b[0;34m\"%\"\u001b[0m\u001b[0;34m)\u001b[0m\u001b[0;34m\u001b[0m\u001b[0;34m\u001b[0m\u001b[0m\n",
            "\u001b[0;31mIndexError\u001b[0m: tuple index out of range"
          ]
        },
        {
          "output_type": "display_data",
          "data": {
            "text/plain": [
              "<Figure size 720x576 with 1 Axes>"
            ],
            "image/png": "[encoded data removed]"
          },
          "metadata": {
            "needs_background": "light"
          }
        }
      ]
    }
  ]
}